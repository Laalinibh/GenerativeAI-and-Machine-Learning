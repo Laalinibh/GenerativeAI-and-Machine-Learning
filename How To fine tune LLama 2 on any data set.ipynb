{
 "cells": [
  {
   "cell_type": "code",
   "execution_count": null,
   "id": "8636ec47",
   "metadata": {},
   "outputs": [],
   "source": [
    "from transformers import AutoModelForCausalLM\n",
    "from datasets import load_dataset\n",
    "from trl import SFTTrainer\n",
    "\n",
    "model = AutoModelForCausalLM,from_pretrained(\"meta-llama/Llama-2-7b-hf\",load_in_4bit=True)\n",
    "\n",
    "dataset = load_dataset(script_Args.dataset_name,split = \"train\")\n",
    "\n",
    "trainer = SFTTrainer(\n",
    "model = model,\n",
    "train_dataset = dataset,\n",
    "peft_config = peft_config,\n",
    "\n",
    "dataset_text_field = \"text\",\n",
    "max_seq_length = args.max_seq_length,\n",
    "    args=training_arguments\n",
    ")\n",
    "\n",
    "trainer.train()"
   ]
  }
 ],
 "metadata": {
  "kernelspec": {
   "display_name": "Python 3 (ipykernel)",
   "language": "python",
   "name": "python3"
  },
  "language_info": {
   "codemirror_mode": {
    "name": "ipython",
    "version": 3
   },
   "file_extension": ".py",
   "mimetype": "text/x-python",
   "name": "python",
   "nbconvert_exporter": "python",
   "pygments_lexer": "ipython3",
   "version": "3.10.9"
  }
 },
 "nbformat": 4,
 "nbformat_minor": 5
}
