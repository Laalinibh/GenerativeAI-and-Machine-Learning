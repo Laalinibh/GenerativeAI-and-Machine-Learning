{
 "cells": [
  {
   "cell_type": "code",
   "execution_count": 1,
   "metadata": {},
   "outputs": [],
   "source": [
    "import pandas as pd"
   ]
  },
  {
   "cell_type": "code",
   "execution_count": null,
   "metadata": {},
   "outputs": [],
   "source": [
    "# Read a specific sheet from the Excel file\n",
    "file_path = \"Users/fission/Downloads/Sample_Dataset_18JAN24.xlsx\"\n",
    "Events_df = pd.read_excel(file_path, sheet_name='Events_Data')\n",
    "Attendee_df = pd.read_excel(file_path, sheet_name='Attendee_Data')"
   ]
  },
  {
   "cell_type": "code",
   "execution_count": 2,
   "metadata": {},
   "outputs": [
    {
     "name": "stdout",
     "output_type": "stream",
     "text": [
      "Collecting pymongo\n",
      "  Downloading pymongo-4.6.1-cp310-cp310-macosx_10_9_universal2.whl (534 kB)\n",
      "\u001b[2K     \u001b[90m━━━━━━━━━━━━━━━━━━━━━━━━━━━━━━━━━━━━━━━\u001b[0m \u001b[32m534.5/534.5 kB\u001b[0m \u001b[31m2.3 MB/s\u001b[0m eta \u001b[36m0:00:00\u001b[0m00:01\u001b[0m00:01\u001b[0m\n",
      "\u001b[?25hCollecting dnspython<3.0.0,>=1.16.0\n",
      "  Downloading dnspython-2.5.0-py3-none-any.whl (305 kB)\n",
      "\u001b[2K     \u001b[90m━━━━━━━━━━━━━━━━━━━━━━━━━━━━━━━━━━━━━━━\u001b[0m \u001b[32m305.4/305.4 kB\u001b[0m \u001b[31m3.5 MB/s\u001b[0m eta \u001b[36m0:00:00\u001b[0ma \u001b[36m0:00:01\u001b[0m\n",
      "\u001b[?25hInstalling collected packages: dnspython, pymongo\n",
      "Successfully installed dnspython-2.5.0 pymongo-4.6.1\n"
     ]
    }
   ],
   "source": [
    "!pip install pymongo"
   ]
  },
  {
   "cell_type": "code",
   "execution_count": 10,
   "metadata": {},
   "outputs": [
    {
     "name": "stdout",
     "output_type": "stream",
     "text": [
      "Requirement already satisfied: pymongo in /Users/fission/anaconda3/lib/python3.10/site-packages (4.6.1)\n",
      "Requirement already satisfied: dnspython<3.0.0,>=1.16.0 in /Users/fission/anaconda3/lib/python3.10/site-packages (from pymongo) (2.5.0)\n"
     ]
    }
   ],
   "source": [
    "!pip install pymongo"
   ]
  },
  {
   "cell_type": "code",
   "execution_count": 11,
   "metadata": {},
   "outputs": [
    {
     "name": "stdout",
     "output_type": "stream",
     "text": [
      "Collecting geohash2\n",
      "  Downloading geohash2-1.1.tar.gz (15 kB)\n",
      "  Preparing metadata (setup.py) ... \u001b[?25ldone\n",
      "\u001b[?25hRequirement already satisfied: docutils>=0.3 in /Users/fission/anaconda3/lib/python3.10/site-packages (from geohash2) (0.18.1)\n",
      "Building wheels for collected packages: geohash2\n",
      "  Building wheel for geohash2 (setup.py) ... \u001b[?25ldone\n",
      "\u001b[?25h  Created wheel for geohash2: filename=geohash2-1.1-py3-none-any.whl size=15543 sha256=a2ad49971e421a70e2da5776a98c723de8f6daaa8ae3ab7af724cd116e288fb9\n",
      "  Stored in directory: /Users/fission/Library/Caches/pip/wheels/97/82/cd/50d2f4984c45d96c316d77f799a099fdb6be3ad355297af3c5\n",
      "Successfully built geohash2\n",
      "Installing collected packages: geohash2\n",
      "Successfully installed geohash2-1.1\n"
     ]
    }
   ],
   "source": [
    "!pip install geohash2"
   ]
  },
  {
   "cell_type": "code",
   "execution_count": 12,
   "metadata": {},
   "outputs": [
    {
     "ename": "NameError",
     "evalue": "name 'Nominatim' is not defined",
     "output_type": "error",
     "traceback": [
      "\u001b[0;31m---------------------------------------------------------------------------\u001b[0m",
      "\u001b[0;31mNameError\u001b[0m                                 Traceback (most recent call last)",
      "Cell \u001b[0;32mIn[12], line 29\u001b[0m\n\u001b[1;32m     27\u001b[0m \u001b[39m# Insert data with GeoHash into MongoDB\u001b[39;00m\n\u001b[1;32m     28\u001b[0m \u001b[39mfor\u001b[39;00m city \u001b[39min\u001b[39;00m df_A[\u001b[39m'\u001b[39m\u001b[39mlocation\u001b[39m\u001b[39m'\u001b[39m]:\n\u001b[0;32m---> 29\u001b[0m     geocode \u001b[39m=\u001b[39m geocode_city(city)\n\u001b[1;32m     30\u001b[0m     \u001b[39mif\u001b[39;00m geocode:\n\u001b[1;32m     31\u001b[0m         geo_hash \u001b[39m=\u001b[39m geohash2\u001b[39m.\u001b[39mencode(geocode[\u001b[39m0\u001b[39m], geocode[\u001b[39m1\u001b[39m])\n",
      "Cell \u001b[0;32mIn[12], line 20\u001b[0m, in \u001b[0;36mgeocode_city\u001b[0;34m(city_name)\u001b[0m\n\u001b[1;32m     19\u001b[0m \u001b[39mdef\u001b[39;00m \u001b[39mgeocode_city\u001b[39m(city_name):\n\u001b[0;32m---> 20\u001b[0m     geolocator \u001b[39m=\u001b[39m Nominatim(user_agent\u001b[39m=\u001b[39m\u001b[39m\"\u001b[39m\u001b[39mgeocoder\u001b[39m\u001b[39m\"\u001b[39m)\n\u001b[1;32m     21\u001b[0m     location \u001b[39m=\u001b[39m geolocator\u001b[39m.\u001b[39mgeocode(city_name)\n\u001b[1;32m     22\u001b[0m     \u001b[39mif\u001b[39;00m location:\n",
      "\u001b[0;31mNameError\u001b[0m: name 'Nominatim' is not defined"
     ]
    }
   ],
   "source": [
    "import pandas as pd\n",
    "import pymongo\n",
    "import geohash2\n",
    "\n",
    "# Sample DataFrames (replace with your actual data)\n",
    "data_A = {'location': ['CityA', 'CityB']}\n",
    "data_B = {'location': ['CityX', 'CityY', 'CityZ']}\n",
    "\n",
    "df_A = pd.DataFrame(data_A)\n",
    "df_B = pd.DataFrame(data_B)\n",
    "\n",
    "# Connect to MongoDB\n",
    "client = pymongo.MongoClient(\"mongodb://localhost:27017\")\n",
    "db = client[\"data\"]\n",
    "collection = db[\"data1\"]\n",
    "\n",
    "\n",
    "# Geocode function using Nominatim\n",
    "def geocode_city(city_name):\n",
    "    geolocator = Nominatim(user_agent=\"geocoder\")\n",
    "    location = geolocator.geocode(city_name)\n",
    "    if location:\n",
    "        return location.latitude, location.longitude\n",
    "    else:\n",
    "        return None\n",
    "\n",
    "# Insert data with GeoHash into MongoDB\n",
    "for city in df_A['location']:\n",
    "    geocode = geocode_city(city)\n",
    "    if geocode:\n",
    "        geo_hash = geohash2.encode(geocode[0], geocode[1])\n",
    "        collection.insert_one({'city': city, 'geocode': geocode, 'geohash': geo_hash})\n",
    "\n",
    "# Function to search locations in proximity using GeoHash\n",
    "def search_locations_in_proximity_geohash(df_target, df_search, radius_km):\n",
    "    result = []\n",
    "\n",
    "    for target_city in df_target['location']:\n",
    "        target_geocode = geocode_city(target_city)\n",
    "\n",
    "        if target_geocode:\n",
    "            target_geo_hash = geohash2.encode(target_geocode[0], target_geocode[1])\n",
    "\n",
    "            for search_city in df_search['location']:\n",
    "                search_geocode = geocode_city(search_city)\n",
    "\n",
    "                if search_geocode:\n",
    "                    search_geo_hash = geohash2.encode(search_geocode[0], search_geocode[1])\n",
    "\n",
    "                    # Perform proximity search using GeoHash\n",
    "                    query = {\n",
    "                        'geohash': {\n",
    "                            '$geoWithin': {\n",
    "                                '$centerSphere': [\n",
    "                                    [target_geocode[1], target_geocode[0]],  # MongoDB expects [longitude, latitude]\n",
    "                                    radius_km / 6371.0  # Convert radius from km to radians\n",
    "                                ]\n",
    "                            }\n",
    "                        }\n",
    "                    }\n",
    "\n",
    "                    results = collection.find(query)\n",
    "\n",
    "                    for res in results:\n",
    "                        result.append((target_city, res['city']))\n",
    "\n",
    "    return result\n",
    "\n",
    "# Specify search radii\n",
    "search_radii = [5, 10, 15, 20, 30, 45]\n",
    "\n",
    "# Perform search for each radius\n",
    "for radius in search_radii:\n",
    "    print(f\"Search results within {radius} km using GeoHash:\")\n",
    "    result = search_locations_in_proximity_geohash(df_A, df_B, radius)\n",
    "    for res in result:\n",
    "        print(f\"{res[0]} is in proximity to {res[1]}\")\n",
    "    print(\"-\" * 30)\n"
   ]
  }
 ],
 "metadata": {
  "kernelspec": {
   "display_name": "Python 3 (ipykernel)",
   "language": "python",
   "name": "python3"
  },
  "language_info": {
   "codemirror_mode": {
    "name": "ipython",
    "version": 3
   },
   "file_extension": ".py",
   "mimetype": "text/x-python",
   "name": "python",
   "nbconvert_exporter": "python",
   "pygments_lexer": "ipython3",
   "version": "3.10.9"
  }
 },
 "nbformat": 4,
 "nbformat_minor": 2
}
