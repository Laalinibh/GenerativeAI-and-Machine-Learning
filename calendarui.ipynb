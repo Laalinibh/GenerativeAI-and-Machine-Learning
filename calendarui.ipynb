{
 "cells": [
  {
   "cell_type": "code",
   "execution_count": null,
   "id": "aea191db",
   "metadata": {},
   "outputs": [],
   "source": [
    "<!DOCTYPE html>\n",
    "<html>\n",
    "<head>\n",
    "  <meta charset='utf-8' />\n",
    "  <link rel='stylesheet' href='https://cdnjs.cloudflare.com/ajax/libs/fullcalendar/3.10.2/fullcalendar.min.css' />\n",
    "  <script src='https://cdnjs.cloudflare.com/ajax/libs/jquery/3.6.0/jquery.min.js'></script>\n",
    "  <script src='https://cdnjs.cloudflare.com/ajax/libs/moment.js/2.29.1/moment.min.js'></script>\n",
    "  <script src='https://cdnjs.cloudflare.com/ajax/libs/fullcalendar/3.10.2/fullcalendar.min.js'></script>\n",
    "</head>\n",
    "<body>\n",
    "  <h1>Calendar</h1>\n",
    "  <div id='calendar'></div>\n",
    "\n",
    "  <script>\n",
    "    $(document).ready(function() {\n",
    "      $('#calendar').fullCalendar({\n",
    "        // Specify your calendar options and settings\n",
    "        // For example:\n",
    "        defaultView: 'month',\n",
    "        events: [\n",
    "          // Add your events or load them dynamically from a source\n",
    "          // For example:\n",
    "          {\n",
    "            title: 'Meeting',\n",
    "            start: '2023-05-30T09:00:00',\n",
    "            end: '2023-05-30T10:00:00'\n",
    "          }\n",
    "        ]\n",
    "      });\n",
    "    });\n",
    " </script>   \n",
    "</body>\n",
    "</html>"
   ]
  }
 ],
 "metadata": {
  "kernelspec": {
   "display_name": "Python 3 (ipykernel)",
   "language": "python",
   "name": "python3"
  },
  "language_info": {
   "codemirror_mode": {
    "name": "ipython",
    "version": 3
   },
   "file_extension": ".py",
   "mimetype": "text/x-python",
   "name": "python",
   "nbconvert_exporter": "python",
   "pygments_lexer": "ipython3",
   "version": "3.10.9"
  }
 },
 "nbformat": 4,
 "nbformat_minor": 5
}
